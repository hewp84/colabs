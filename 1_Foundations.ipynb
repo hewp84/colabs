{
  "nbformat": 4,
  "nbformat_minor": 0,
  "metadata": {
    "colab": {
      "name": "1_Foundations.ipynb",
      "provenance": [],
      "authorship_tag": "ABX9TyNzK9Mb4wYRdTidqdOqGkbU",
      "include_colab_link": true
    },
    "kernelspec": {
      "name": "python3",
      "display_name": "Python 3"
    },
    "language_info": {
      "name": "python"
    }
  },
  "cells": [
    {
      "cell_type": "markdown",
      "metadata": {
        "id": "view-in-github",
        "colab_type": "text"
      },
      "source": [
        "<a href=\"https://colab.research.google.com/github/hewp84/colabs/blob/main/1_Foundations.ipynb\" target=\"_parent\"><img src=\"https://colab.research.google.com/assets/colab-badge.svg\" alt=\"Open In Colab\"/></a>"
      ]
    },
    {
      "cell_type": "markdown",
      "source": [
        "#1. Foundations of TinyML"
      ],
      "metadata": {
        "id": "Nq6jeZ4IVa0S"
      }
    },
    {
      "cell_type": "code",
      "source": [
        ""
      ],
      "metadata": {
        "id": "imIxSBhOlw0k"
      },
      "execution_count": null,
      "outputs": []
    }
  ]
}