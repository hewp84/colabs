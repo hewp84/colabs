{
  "nbformat": 4,
  "nbformat_minor": 0,
  "metadata": {
    "colab": {
      "name": "2_1_TinymlParadigm",
      "provenance": [],
      "collapsed_sections": [],
      "include_colab_link": true
    },
    "kernelspec": {
      "name": "python3",
      "display_name": "Python 3"
    },
    "language_info": {
      "name": "python"
    }
  },
  "cells": [
    {
      "cell_type": "markdown",
      "metadata": {
        "id": "view-in-github",
        "colab_type": "text"
      },
      "source": [
        "<a href=\"https://colab.research.google.com/github/hewp84/colabs/blob/main/2_1_TinymlParadigm.ipynb\" target=\"_parent\"><img src=\"https://colab.research.google.com/assets/colab-badge.svg\" alt=\"Open In Colab\"/></a>"
      ]
    },
    {
      "cell_type": "markdown",
      "source": [
        "# The Shift of Machine Learning"
      ],
      "metadata": {
        "id": "2bfsLoHuhhRi"
      }
    },
    {
      "cell_type": "markdown",
      "source": [
        "Paradigm"
      ],
      "metadata": {
        "id": "AfGrrxwbPvG3"
      }
    },
    {
      "cell_type": "markdown",
      "source": [
        "![picture](https://drive.google.com/uc?id=1-suVpteJGitubqtsnSe0Cq8mUb5v7qvq)"
      ],
      "metadata": {
        "id": "m6o_HGX8Wst2"
      }
    },
    {
      "cell_type": "markdown",
      "source": [
        "For a Machine Learning algorithm to solve a problem, there are two key features. (1) it will take a piece of **data** and (2) will take a **guess** at the **answer**. Then, it will *optimize* its **guess** until it gets the correct **answer**. The concept of *loss* will be what helps to *optimize* the **guess**. \n",
        "\n",
        "To illustrate, the below diagram shows the general machine learning process."
      ],
      "metadata": {
        "id": "mlV5fjIzXQwD"
      }
    },
    {
      "cell_type": "markdown",
      "source": [
        "<img src=\"https://drive.google.com/uc?id=1024NYwnl_LIHRl5YbdsL-ZAjxcmAFybu\" width=\"825\" height=\"325\"/>\n"
      ],
      "metadata": {
        "id": "Nw36UX7Objia"
      }
    },
    {
      "cell_type": "markdown",
      "source": [
        "### Simulating a Machine Learning model to understand *loss*\n",
        "\n",
        "Here we will iterate through, by trial and error, different **rules** (the \"output\" or \"result\" in the ML paradigm) to understand why machine learning is so powerful, and principly lies on the concept of **loss**<br>\n",
        "<br>\n",
        "We are given a set of **data** in the form of **x** values that we will work with. And, a set of answers (**y** values) that correspond to the data.\n"
      ],
      "metadata": {
        "id": "2IEdL8P1TAUo"
      }
    },
    {
      "cell_type": "code",
      "source": [
        "x = [-1, 0, 1, 2, 3, 4]                    # input values\n",
        "y = [-3, -1, 1, 3, 5, 7]                   # output, or, \"answer\" values"
      ],
      "metadata": {
        "id": "ChErAapYYhMR"
      },
      "execution_count": null,
      "outputs": []
    },
    {
      "cell_type": "markdown",
      "source": [
        "For any piece of **data** (**x**-value, input), we should be able to figure out the **answer**. <br>"
      ],
      "metadata": {
        "id": "Ne3bahpOUPNU"
      }
    },
    {
      "cell_type": "markdown",
      "source": [
        "#### Guessing the rule ourselves\n",
        "We need a **rule** (the function that will provide the answer for the given input). For our simple example, this rule will be a linear function in the form of **y=mx+b**.\n",
        "\n",
        "Shown below is a slider to adjust different 'm' and 'b' values so that we can demonstrate how good or bad rules are at predicting (drawing inferences) about the answer.\n",
        "\n",
        "By default, m = 3 and b = -1. <br>\n",
        "\n",
        "#### The graph below illustrates loss\n",
        "The <font color=\"green\"> green </font> line shows the real and accurate values that correlate our **x** to our **y**. The <font color=\"red\"> red </font> line shows the values that are predicted based on our rule that is defined by our slider. The **loss** is visualized by the space between the two lines.\n",
        "<br>\n",
        "\n",
        "Run the cell below and then play around by changing the **m** value on the slider and the graph will update automatically."
      ],
      "metadata": {
        "id": "UU2NKWnBWFA_"
      }
    },
    {
      "cell_type": "code",
      "source": [
        "#@title Change the values to explore how loss changes {display-mode:\"form\", run:\"auto\"}\n",
        "\n",
        "m = 10       #@param {type:\"slider\", min:-25, max:25, step:1}\n",
        "b = 2       #@param {type:\"slider\", min:-25, max:25, step:1}\n",
        "\n",
        "import math\n",
        "\n",
        "%matplotlib inline\n",
        "import matplotlib.pyplot as plot\n",
        "plot.style.use('seaborn-whitegrid')\n",
        "import numpy as np\n",
        "\n",
        "# the following calculates e\n",
        "guessY = []\n",
        "for iX in x:\n",
        "  iY = (m*iX) + b\n",
        "  guessY.append(iY)\n",
        "\n",
        "total_square_error = 0\n",
        "for i in range(0, len(y)):\n",
        "  square_error = (y[i] - guessY[i]) ** 2\n",
        "  total_square_error += square_error\n",
        "\n",
        "print(\"The predicted Y is: \" + str(guessY) + \"\\n\")\n",
        "print(\"The loss for this guess is: \" + str(math.sqrt(total_square_error)))\n",
        "\n",
        "fig, ax = plot.subplots()\n",
        "ax.plot(x, y, marker='o', color='green', label='Real values')\n",
        "ax.plot(x, guessY, marker='^', color='red', label='Predicted values')\n",
        "leg = ax.legend()\n",
        "ax.legend(loc='upper left')\n",
        "\n",
        "total_square_error = 0\n"
      ],
      "metadata": {
        "colab": {
          "base_uri": "https://localhost:8080/",
          "height": 314
        },
        "id": "RFl9HovEjNDU",
        "outputId": "acbcff41-932b-473a-9a83-82db8cde7d8e"
      },
      "execution_count": null,
      "outputs": [
        {
          "output_type": "stream",
          "name": "stdout",
          "text": [
            "The predicted Y is: [-8, 2, 12, 22, 32, 42]\n",
            "\n",
            "The loss for this guess is: 49.69909455915671\n"
          ]
        },
        {
          "output_type": "display_data",
          "data": {
            "image/png": "[encoded data removed]",
            "text/plain": [
              "<Figure size 432x288 with 1 Axes>"
            ]
          },
          "metadata": {}
        }
      ]
    },
    {
      "cell_type": "markdown",
      "source": [
        "#### The Reality\n",
        "\n",
        "This is a very trivial process. It is not too hard to find that m=2 and b=-1 (y = 2x-1) is the correct rule to match the **x** values to the **y** values. \n",
        "\n",
        "<br>\n",
        "\n",
        "However, with more complex data, figuring out those values for the rule is not so easy. Machine learning helps us out. By taking a guess, measuring our accuracy, and optimizing our guess *again* and *again*, <font color='red'>we can produce a **model** that will provide accurate **inferences** from any **data**. </font>\n",
        "\n",
        "***** [[[insert picture of data -> model -> inferences]]]"
      ],
      "metadata": {
        "id": "5VPV_yjWkkX2"
      }
    },
    {
      "cell_type": "markdown",
      "source": [
        "### Machine Learning\n",
        "\n",
        "Instead of simulating the machine learning process as we did above, now we will let the machine do the guessing, measuring, optimizing, and *learning*.\n",
        "\n",
        "The following block of code defines a simple neural network that will utilize the same **x** and **y** values. It will output the result of **100** guesses and show the *loss* value for each of those."
      ],
      "metadata": {
        "id": "IoB29vdZTiEv"
      }
    },
    {
      "cell_type": "code",
      "source": [
        "import tensorflow as tf\n",
        "import numpy as np\n",
        "from tensorflow import keras\n",
        "\n",
        "from google.colab.output import eval_js\n",
        "eval_js('google.colab.output.setIframeHeight(\"200\")')\n",
        "\n",
        "# define a neural network with one neuron\n",
        "# for more information on TF functions see: https://www.tensorflow.org/api_docs\n",
        "model = tf.keras.Sequential([keras.layers.Dense(units=1, input_shape=[1])])\n",
        "\n",
        "# use stochastic gradient descent for optimization and\n",
        "# the mean squared error loss function\n",
        "model.compile(optimizer='sgd', loss='mean_squared_error')\n",
        "\n",
        "# define some training data (xs as inputs and ys as outputs)\n",
        "xs = np.array([-1.0,  0.0, 1.0, 2.0, 3.0, 4.0], dtype=float)\n",
        "ys = np.array([-3.0, -1.0, 1.0, 3.0, 5.0, 7.0], dtype=float)\n",
        "\n",
        "# fit the model to the data (aka train the model)\n",
        "a=10\n",
        "b=50\n",
        "c=100\n",
        "\n",
        "model.fit(xs, ys, epochs=a)"
      ],
      "metadata": {
        "colab": {
          "base_uri": "https://localhost:8080/",
          "height": 200
        },
        "id": "8QDC7y8voI5r",
        "outputId": "f21d003c-e266-49d1-8c97-5610264ca0dd"
      },
      "execution_count": null,
      "outputs": [
        {
          "output_type": "stream",
          "name": "stdout",
          "text": [
            "Epoch 1/100\n",
            "1/1 [==============================] - 0s 455ms/step - loss: 0.5658\n",
            "Epoch 2/100\n",
            "1/1 [==============================] - 0s 10ms/step - loss: 0.5519\n",
            "Epoch 3/100\n",
            "1/1 [==============================] - 0s 8ms/step - loss: 0.5388\n",
            "Epoch 4/100\n",
            "1/1 [==============================] - 0s 8ms/step - loss: 0.5263\n",
            "Epoch 5/100\n",
            "1/1 [==============================] - 0s 6ms/step - loss: 0.5144\n",
            "Epoch 6/100\n",
            "1/1 [==============================] - 0s 6ms/step - loss: 0.5029\n",
            "Epoch 7/100\n",
            "1/1 [==============================] - 0s 12ms/step - loss: 0.4919\n",
            "Epoch 8/100\n",
            "1/1 [==============================] - 0s 4ms/step - loss: 0.4813\n",
            "Epoch 9/100\n",
            "1/1 [==============================] - 0s 5ms/step - loss: 0.4709\n",
            "Epoch 10/100\n",
            "1/1 [==============================] - 0s 8ms/step - loss: 0.4609\n",
            "Epoch 11/100\n",
            "1/1 [==============================] - 0s 8ms/step - loss: 0.4512\n",
            "Epoch 12/100\n",
            "1/1 [==============================] - 0s 6ms/step - loss: 0.4417\n",
            "Epoch 13/100\n",
            "1/1 [==============================] - 0s 11ms/step - loss: 0.4325\n",
            "Epoch 14/100\n",
            "1/1 [==============================] - 0s 8ms/step - loss: 0.4235\n",
            "Epoch 15/100\n",
            "1/1 [==============================] - 0s 7ms/step - loss: 0.4147\n",
            "Epoch 16/100\n",
            "1/1 [==============================] - 0s 8ms/step - loss: 0.4061\n",
            "Epoch 17/100\n",
            "1/1 [==============================] - 0s 5ms/step - loss: 0.3977\n",
            "Epoch 18/100\n",
            "1/1 [==============================] - 0s 6ms/step - loss: 0.3895\n",
            "Epoch 19/100\n",
            "1/1 [==============================] - 0s 5ms/step - loss: 0.3814\n",
            "Epoch 20/100\n",
            "1/1 [==============================] - 0s 6ms/step - loss: 0.3736\n",
            "Epoch 21/100\n",
            "1/1 [==============================] - 0s 6ms/step - loss: 0.3659\n",
            "Epoch 22/100\n",
            "1/1 [==============================] - 0s 5ms/step - loss: 0.3583\n",
            "Epoch 23/100\n",
            "1/1 [==============================] - 0s 6ms/step - loss: 0.3509\n",
            "Epoch 24/100\n",
            "1/1 [==============================] - 0s 5ms/step - loss: 0.3437\n",
            "Epoch 25/100\n",
            "1/1 [==============================] - 0s 7ms/step - loss: 0.3367\n",
            "Epoch 26/100\n",
            "1/1 [==============================] - 0s 4ms/step - loss: 0.3297\n",
            "Epoch 27/100\n",
            "1/1 [==============================] - 0s 6ms/step - loss: 0.3230\n",
            "Epoch 28/100\n",
            "1/1 [==============================] - 0s 4ms/step - loss: 0.3163\n",
            "Epoch 29/100\n",
            "1/1 [==============================] - 0s 5ms/step - loss: 0.3098\n",
            "Epoch 30/100\n",
            "1/1 [==============================] - 0s 6ms/step - loss: 0.3035\n",
            "Epoch 31/100\n",
            "1/1 [==============================] - 0s 6ms/step - loss: 0.2972\n",
            "Epoch 32/100\n",
            "1/1 [==============================] - 0s 6ms/step - loss: 0.2911\n",
            "Epoch 33/100\n",
            "1/1 [==============================] - 0s 5ms/step - loss: 0.2851\n",
            "Epoch 34/100\n",
            "1/1 [==============================] - 0s 7ms/step - loss: 0.2793\n",
            "Epoch 35/100\n",
            "1/1 [==============================] - 0s 6ms/step - loss: 0.2735\n",
            "Epoch 36/100\n",
            "1/1 [==============================] - 0s 5ms/step - loss: 0.2679\n",
            "Epoch 37/100\n",
            "1/1 [==============================] - 0s 6ms/step - loss: 0.2624\n",
            "Epoch 38/100\n",
            "1/1 [==============================] - 0s 7ms/step - loss: 0.2570\n",
            "Epoch 39/100\n",
            "1/1 [==============================] - 0s 8ms/step - loss: 0.2517\n",
            "Epoch 40/100\n",
            "1/1 [==============================] - 0s 5ms/step - loss: 0.2466\n",
            "Epoch 41/100\n",
            "1/1 [==============================] - 0s 6ms/step - loss: 0.2415\n",
            "Epoch 42/100\n",
            "1/1 [==============================] - 0s 4ms/step - loss: 0.2365\n",
            "Epoch 43/100\n",
            "1/1 [==============================] - 0s 6ms/step - loss: 0.2317\n",
            "Epoch 44/100\n",
            "1/1 [==============================] - 0s 7ms/step - loss: 0.2269\n",
            "Epoch 45/100\n",
            "1/1 [==============================] - 0s 3ms/step - loss: 0.2223\n",
            "Epoch 46/100\n",
            "1/1 [==============================] - 0s 6ms/step - loss: 0.2177\n",
            "Epoch 47/100\n",
            "1/1 [==============================] - 0s 4ms/step - loss: 0.2132\n",
            "Epoch 48/100\n",
            "1/1 [==============================] - 0s 4ms/step - loss: 0.2088\n",
            "Epoch 49/100\n",
            "1/1 [==============================] - 0s 5ms/step - loss: 0.2046\n",
            "Epoch 50/100\n",
            "1/1 [==============================] - 0s 6ms/step - loss: 0.2004\n",
            "Epoch 51/100\n",
            "1/1 [==============================] - 0s 7ms/step - loss: 0.1962\n",
            "Epoch 52/100\n",
            "1/1 [==============================] - 0s 4ms/step - loss: 0.1922\n",
            "Epoch 53/100\n",
            "1/1 [==============================] - 0s 10ms/step - loss: 0.1883\n",
            "Epoch 54/100\n",
            "1/1 [==============================] - 0s 4ms/step - loss: 0.1844\n",
            "Epoch 55/100\n",
            "1/1 [==============================] - 0s 6ms/step - loss: 0.1806\n",
            "Epoch 56/100\n",
            "1/1 [==============================] - 0s 5ms/step - loss: 0.1769\n",
            "Epoch 57/100\n",
            "1/1 [==============================] - 0s 5ms/step - loss: 0.1733\n",
            "Epoch 58/100\n",
            "1/1 [==============================] - 0s 4ms/step - loss: 0.1697\n",
            "Epoch 59/100\n",
            "1/1 [==============================] - 0s 5ms/step - loss: 0.1662\n",
            "Epoch 60/100\n",
            "1/1 [==============================] - 0s 4ms/step - loss: 0.1628\n",
            "Epoch 61/100\n",
            "1/1 [==============================] - 0s 6ms/step - loss: 0.1595\n",
            "Epoch 62/100\n",
            "1/1 [==============================] - 0s 19ms/step - loss: 0.1562\n",
            "Epoch 63/100\n",
            "1/1 [==============================] - 0s 5ms/step - loss: 0.1530\n",
            "Epoch 64/100\n",
            "1/1 [==============================] - 0s 5ms/step - loss: 0.1498\n",
            "Epoch 65/100\n",
            "1/1 [==============================] - 0s 5ms/step - loss: 0.1468\n",
            "Epoch 66/100\n",
            "1/1 [==============================] - 0s 5ms/step - loss: 0.1437\n",
            "Epoch 67/100\n",
            "1/1 [==============================] - 0s 7ms/step - loss: 0.1408\n",
            "Epoch 68/100\n",
            "1/1 [==============================] - 0s 5ms/step - loss: 0.1379\n",
            "Epoch 69/100\n",
            "1/1 [==============================] - 0s 10ms/step - loss: 0.1351\n",
            "Epoch 70/100\n",
            "1/1 [==============================] - 0s 10ms/step - loss: 0.1323\n",
            "Epoch 71/100\n",
            "1/1 [==============================] - 0s 5ms/step - loss: 0.1296\n",
            "Epoch 72/100\n",
            "1/1 [==============================] - 0s 4ms/step - loss: 0.1269\n",
            "Epoch 73/100\n",
            "1/1 [==============================] - 0s 5ms/step - loss: 0.1243\n",
            "Epoch 74/100\n",
            "1/1 [==============================] - 0s 4ms/step - loss: 0.1218\n",
            "Epoch 75/100\n",
            "1/1 [==============================] - 0s 5ms/step - loss: 0.1193\n",
            "Epoch 76/100\n",
            "1/1 [==============================] - 0s 7ms/step - loss: 0.1168\n",
            "Epoch 77/100\n",
            "1/1 [==============================] - 0s 7ms/step - loss: 0.1144\n",
            "Epoch 78/100\n",
            "1/1 [==============================] - 0s 6ms/step - loss: 0.1121\n",
            "Epoch 79/100\n",
            "1/1 [==============================] - 0s 10ms/step - loss: 0.1098\n",
            "Epoch 80/100\n",
            "1/1 [==============================] - 0s 9ms/step - loss: 0.1075\n",
            "Epoch 81/100\n",
            "1/1 [==============================] - 0s 5ms/step - loss: 0.1053\n",
            "Epoch 82/100\n",
            "1/1 [==============================] - 0s 8ms/step - loss: 0.1031\n",
            "Epoch 83/100\n",
            "1/1 [==============================] - 0s 6ms/step - loss: 0.1010\n",
            "Epoch 84/100\n",
            "1/1 [==============================] - 0s 7ms/step - loss: 0.0989\n",
            "Epoch 85/100\n",
            "1/1 [==============================] - 0s 6ms/step - loss: 0.0969\n",
            "Epoch 86/100\n",
            "1/1 [==============================] - 0s 10ms/step - loss: 0.0949\n",
            "Epoch 87/100\n",
            "1/1 [==============================] - 0s 5ms/step - loss: 0.0930\n",
            "Epoch 88/100\n",
            "1/1 [==============================] - 0s 5ms/step - loss: 0.0911\n",
            "Epoch 89/100\n",
            "1/1 [==============================] - 0s 8ms/step - loss: 0.0892\n",
            "Epoch 90/100\n",
            "1/1 [==============================] - 0s 5ms/step - loss: 0.0873\n",
            "Epoch 91/100\n",
            "1/1 [==============================] - 0s 9ms/step - loss: 0.0856\n",
            "Epoch 92/100\n",
            "1/1 [==============================] - 0s 6ms/step - loss: 0.0838\n",
            "Epoch 93/100\n",
            "1/1 [==============================] - 0s 5ms/step - loss: 0.0821\n",
            "Epoch 94/100\n",
            "1/1 [==============================] - 0s 9ms/step - loss: 0.0804\n",
            "Epoch 95/100\n",
            "1/1 [==============================] - 0s 6ms/step - loss: 0.0787\n",
            "Epoch 96/100\n",
            "1/1 [==============================] - 0s 11ms/step - loss: 0.0771\n",
            "Epoch 97/100\n",
            "1/1 [==============================] - 0s 9ms/step - loss: 0.0755\n",
            "Epoch 98/100\n",
            "1/1 [==============================] - 0s 5ms/step - loss: 0.0740\n",
            "Epoch 99/100\n",
            "1/1 [==============================] - 0s 4ms/step - loss: 0.0725\n",
            "Epoch 100/100\n",
            "1/1 [==============================] - 0s 6ms/step - loss: 0.0710\n"
          ]
        },
        {
          "output_type": "execute_result",
          "data": {
            "text/plain": [
              "<keras.callbacks.History at 0x7fc0295783d0>"
            ]
          },
          "metadata": {},
          "execution_count": 9
        }
      ]
    },
    {
      "cell_type": "code",
      "source": [
        ""
      ],
      "metadata": {
        "id": "tL_tOYdCV2PS"
      },
      "execution_count": null,
      "outputs": []
    }
  ]
}