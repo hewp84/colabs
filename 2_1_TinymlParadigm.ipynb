{
  "nbformat": 4,
  "nbformat_minor": 0,
  "metadata": {
    "colab": {
      "name": "2_1_TinymlParadigm",
      "provenance": [],
      "collapsed_sections": [],
      "include_colab_link": true
    },
    "kernelspec": {
      "name": "python3",
      "display_name": "Python 3"
    },
    "language_info": {
      "name": "python"
    }
  },
  "cells": [
    {
      "cell_type": "markdown",
      "metadata": {
        "id": "view-in-github",
        "colab_type": "text"
      },
      "source": [
        "<a href=\"https://colab.research.google.com/github/hewp84/colabs/blob/main/2_1_TinymlParadigm.ipynb\" target=\"_parent\"><img src=\"https://colab.research.google.com/assets/colab-badge.svg\" alt=\"Open In Colab\"/></a>"
      ]
    },
    {
      "cell_type": "markdown",
      "source": [
        "# The Shift of Machine Learning"
      ],
      "metadata": {
        "id": "2bfsLoHuhhRi"
      }
    },
    {
      "cell_type": "markdown",
      "source": [
        "Machine learning figures things out on its own. Compare the traditional programming paradigm to the machine learning paradigm below."
      ],
      "metadata": {
        "id": "AfGrrxwbPvG3"
      }
    },
    {
      "cell_type": "markdown",
      "source": [
        "![picture](https://drive.google.com/uc?id=1-suVpteJGitubqtsnSe0Cq8mUb5v7qvq)\n",
        "<font size='1'>Figure 1: TP vs ML paradigm<sup>1</sup></font>"
      ],
      "metadata": {
        "id": "m6o_HGX8Wst2"
      }
    },
    {
      "cell_type": "markdown",
      "source": [
        "For a Machine Learning algorithm to solve a problem, there are two key features. (1) it will take a piece of **data** and (2) will take a **guess** at the **answer**. Then, it will *optimize* its **guess** until it gets the correct **answer**. The concept of *loss* will be what helps to *optimize* the **guess**. \n",
        "\n",
        "To illustrate, the below diagram shows the general machine learning process."
      ],
      "metadata": {
        "id": "mlV5fjIzXQwD"
      }
    },
    {
      "cell_type": "markdown",
      "source": [
        "<img src=\"https://drive.google.com/uc?id=1024NYwnl_LIHRl5YbdsL-ZAjxcmAFybu\" width=\"825\" height=\"325\"/>\n",
        "<br><font size='1'>Figure 2: ML paradigm process<sup>1</sup></font>\n"
      ],
      "metadata": {
        "id": "Nw36UX7Objia"
      }
    },
    {
      "cell_type": "markdown",
      "source": [
        "### Simulating a Machine Learning model to understand *loss*\n",
        "\n",
        "Here we will iterate through, by trial and error, different **rules** (the \"output\" or \"result\" in the ML paradigm) to understand why machine learning is so powerful, and principly lies on the concept of **loss**<br>\n",
        "<br>\n",
        "We are given a set of **data** in the form of **x** values that we will work with. And, a set of answers (**y** values) that correspond to the data.\n"
      ],
      "metadata": {
        "id": "2IEdL8P1TAUo"
      }
    },
    {
      "cell_type": "code",
      "source": [
        "x = [-1, 0, 1, 2, 3, 4]                    # input values\n",
        "y = [-3, -1, 1, 3, 5, 7]                   # output, or, \"answer\" values"
      ],
      "metadata": {
        "id": "ChErAapYYhMR"
      },
      "execution_count": 1,
      "outputs": []
    },
    {
      "cell_type": "markdown",
      "source": [
        "For any piece of **data** (**x**-value, input), we should be able to figure out the **answer**. <br>"
      ],
      "metadata": {
        "id": "Ne3bahpOUPNU"
      }
    },
    {
      "cell_type": "markdown",
      "source": [
        "#### Guessing the rule ourselves\n",
        "We need a **rule** (the function that will provide the answer for the given input). For our simple example, this rule will be a linear function in the form of **y=mx+b**.\n",
        "\n",
        "Shown below is a slider to adjust different 'm' and 'b' values so that we can demonstrate how good or bad rules are at predicting (drawing inferences) about the answer.\n",
        "\n",
        "By default, m = 3 and b = -1. <br>\n",
        "\n",
        "#### The graph below illustrates loss\n",
        "The <font color=\"green\"> green </font> line shows the real and accurate values that correlate our **x** to our **y**. The <font color=\"red\"> red </font> line shows the values that are predicted based on our rule that is defined by our slider. The **loss** is visualized by the space between the two lines.\n",
        "<br>\n",
        "\n",
        "Run the cell below and then play around by changing the **m** value on the slider and the graph will update automatically."
      ],
      "metadata": {
        "id": "UU2NKWnBWFA_"
      }
    },
    {
      "cell_type": "code",
      "source": [
        "#@title Change the values to explore how loss changes {display-mode:\"form\", run:\"auto\"}\n",
        "\n",
        "m = 10       #@param {type:\"slider\", min:-25, max:25, step:1}\n",
        "b = 2       #@param {type:\"slider\", min:-25, max:25, step:1}\n",
        "\n",
        "import math\n",
        "\n",
        "%matplotlib inline\n",
        "import matplotlib.pyplot as plot\n",
        "plot.style.use('seaborn-whitegrid')\n",
        "import numpy as np\n",
        "\n",
        "# the following calculates e\n",
        "guessY = []\n",
        "for iX in x:\n",
        "  iY = (m*iX) + b\n",
        "  guessY.append(iY)\n",
        "\n",
        "total_square_error = 0\n",
        "for i in range(0, len(y)):\n",
        "  square_error = (y[i] - guessY[i]) ** 2\n",
        "  total_square_error += square_error\n",
        "\n",
        "print(\"The predicted Y is: \" + str(guessY) + \"\\n\")\n",
        "print(\"The loss for this guess is: \" + str(math.sqrt(total_square_error)))\n",
        "\n",
        "fig, ax = plot.subplots()\n",
        "ax.plot(x, y, marker='o', color='green', label='Real values')\n",
        "ax.plot(x, guessY, marker='^', color='red', label='Predicted values')\n",
        "leg = ax.legend()\n",
        "ax.legend(loc='upper left')\n",
        "\n",
        "total_square_error = 0\n"
      ],
      "metadata": {
        "colab": {
          "base_uri": "https://localhost:8080/",
          "height": 314
        },
        "id": "RFl9HovEjNDU",
        "outputId": "f5b067d1-0426-4cf2-80c8-74b938c902a8"
      },
      "execution_count": 2,
      "outputs": [
        {
          "output_type": "stream",
          "name": "stdout",
          "text": [
            "The predicted Y is: [-8, 2, 12, 22, 32, 42]\n",
            "\n",
            "The loss for this guess is: 49.69909455915671\n"
          ]
        },
        {
          "output_type": "display_data",
          "data": {
            "image/png": "[encoded data removed]",
            "text/plain": [
              "<Figure size 432x288 with 1 Axes>"
            ]
          },
          "metadata": {}
        }
      ]
    },
    {
      "cell_type": "markdown",
      "source": [
        "#### The Reality\n",
        "\n",
        "This is a very trivial process. It is not too hard to find that m=2 and b=-1 (y = 2x-1) is the correct rule to match the **x** values to the **y** values. \n",
        "\n",
        "<br>\n",
        "\n",
        "However, with more complex data, figuring out those values for the rule is not so easy. Machine learning helps us out. By taking a guess, measuring our accuracy, and optimizing our guess *again* and *again*, <font color='red'>we can produce a **model** that will provide accurate **inferences** from any **data**. </font>\n",
        "\n",
        "<img src=\"https://drive.google.com/uc?id=103DzWjmdOgRtutiXVOtxZMEIl_0Oiy84\" width=\"490\" height=\"159\"/> <br>\n",
        "<font size='1'>Figure 3: A model<sup>1</sup></font>"
      ],
      "metadata": {
        "id": "5VPV_yjWkkX2"
      }
    },
    {
      "cell_type": "markdown",
      "source": [
        "### Machine Learning\n",
        "\n",
        "Instead of simulating the machine learning process as we did above, now we will let the machine do the guessing, measuring, optimizing, and *learning*.\n",
        "\n",
        "The following block of code defines a simple neural network that will utilize the same **x** and **y** value. Each **epoch** that it lists is a **guess** that it took. For each epoch it calculates the **loss** and shows that as well. On each new guess that the ML algorithm takes, it tries to further minimize loss down to 0."
      ],
      "metadata": {
        "id": "IoB29vdZTiEv"
      }
    },
    {
      "cell_type": "code",
      "source": [
        "\n",
        "\n",
        "import tensorflow as tf\n",
        "import numpy as np\n",
        "from tensorflow import keras\n",
        "\n",
        "from google.colab.output import eval_js\n",
        "eval_js('google.colab.output.setIframeHeight(\"200\")')\n",
        "\n",
        "# define a neural network with one neuron\n",
        "# for more information on TF functions see: https://www.tensorflow.org/api_docs\n",
        "model = tf.keras.Sequential([keras.layers.Dense(units=1, input_shape=[1])])\n",
        "\n",
        "# use stochastic gradient descent for optimization and\n",
        "# the mean squared error loss function\n",
        "model.compile(optimizer='sgd', loss='mean_squared_error')\n",
        "\n",
        "# define some training data (xs as inputs and ys as outputs)\n",
        "xs = np.array([-1.0,  0.0, 1.0, 2.0, 3.0, 4.0], dtype=float)\n",
        "ys = np.array([-3.0, -1.0, 1.0, 3.0, 5.0, 7.0], dtype=float)\n",
        "\n",
        "# fit the model to the data (aka train the model)\n",
        "#@title ####Enter the number of epochs to train the model on and explore how the final loss value changes {run: \"auto\"}\n",
        "#@markdown ----\n",
        "#@markdown <br>\n",
        "Epochs = \"25\" #@param [10, 25, 50, 100, 500]\n",
        "\n",
        "history = model.fit(xs, ys, epochs=int(Epochs))\n",
        "\n",
        "#code for the loss graph\n",
        "train_loss = history.history['loss']\n",
        "#plots the x value from 0 to the # of epochs, loss values on the y-axis\n",
        "plot.plot((range(0, int(Epochs))), train_loss, 'g', label='Training loss')\n",
        "plot.xlabel('Epochs')\n",
        "plot.ylabel('Loss')\n",
        "plot.legend()"
      ],
      "metadata": {
        "colab": {
          "base_uri": "https://localhost:8080/",
          "height": 200
        },
        "id": "8QDC7y8voI5r",
        "outputId": "89871323-c7f9-4a6e-88d0-e2e6a1f9341a"
      },
      "execution_count": 23,
      "outputs": [
        {
          "output_type": "stream",
          "name": "stdout",
          "text": [
            "Epoch 1/25\n",
            "1/1 [==============================] - 0s 228ms/step - loss: 7.8656\n",
            "Epoch 2/25\n",
            "1/1 [==============================] - 0s 5ms/step - loss: 6.3849\n",
            "Epoch 3/25\n",
            "1/1 [==============================] - 0s 5ms/step - loss: 5.2158\n",
            "Epoch 4/25\n",
            "1/1 [==============================] - 0s 4ms/step - loss: 4.2922\n",
            "Epoch 5/25\n",
            "1/1 [==============================] - 0s 4ms/step - loss: 3.5616\n",
            "Epoch 6/25\n",
            "1/1 [==============================] - 0s 5ms/step - loss: 2.9830\n",
            "Epoch 7/25\n",
            "1/1 [==============================] - 0s 5ms/step - loss: 2.5241\n",
            "Epoch 8/25\n",
            "1/1 [==============================] - 0s 4ms/step - loss: 2.1594\n",
            "Epoch 9/25\n",
            "1/1 [==============================] - 0s 10ms/step - loss: 1.8689\n",
            "Epoch 10/25\n",
            "1/1 [==============================] - 0s 7ms/step - loss: 1.6368\n",
            "Epoch 11/25\n",
            "1/1 [==============================] - 0s 4ms/step - loss: 1.4509\n",
            "Epoch 12/25\n",
            "1/1 [==============================] - 0s 6ms/step - loss: 1.3012\n",
            "Epoch 13/25\n",
            "1/1 [==============================] - 0s 4ms/step - loss: 1.1802\n",
            "Epoch 14/25\n",
            "1/1 [==============================] - 0s 4ms/step - loss: 1.0817\n",
            "Epoch 15/25\n",
            "1/1 [==============================] - 0s 4ms/step - loss: 1.0011\n",
            "Epoch 16/25\n",
            "1/1 [==============================] - 0s 5ms/step - loss: 0.9347\n",
            "Epoch 17/25\n",
            "1/1 [==============================] - 0s 5ms/step - loss: 0.8793\n",
            "Epoch 18/25\n",
            "1/1 [==============================] - 0s 4ms/step - loss: 0.8328\n",
            "Epoch 19/25\n",
            "1/1 [==============================] - 0s 7ms/step - loss: 0.7934\n",
            "Epoch 20/25\n",
            "1/1 [==============================] - 0s 4ms/step - loss: 0.7595\n",
            "Epoch 21/25\n",
            "1/1 [==============================] - 0s 4ms/step - loss: 0.7300\n",
            "Epoch 22/25\n",
            "1/1 [==============================] - 0s 4ms/step - loss: 0.7041\n",
            "Epoch 23/25\n",
            "1/1 [==============================] - 0s 5ms/step - loss: 0.6811\n",
            "Epoch 24/25\n",
            "1/1 [==============================] - 0s 3ms/step - loss: 0.6604\n",
            "Epoch 25/25\n",
            "1/1 [==============================] - 0s 3ms/step - loss: 0.6415\n"
          ]
        },
        {
          "output_type": "execute_result",
          "data": {
            "text/plain": [
              "<matplotlib.legend.Legend at 0x7fa91dcba7d0>"
            ]
          },
          "metadata": {},
          "execution_count": 23
        },
        {
          "output_type": "display_data",
          "data": {
            "image/png": "[encoded data removed]",
            "text/plain": [
              "<Figure size 432x288 with 1 Axes>"
            ]
          },
          "metadata": {}
        }
      ]
    },
    {
      "cell_type": "markdown",
      "source": [
        "Above, there is a graph that charts how the ML minmized loss over time. \n",
        "\n",
        "Machine Learning took a **guess** at what the **rule** should be, then using **loss**, it was able to measure its **accuracy**. Depending on how accurate the guess was, it **optimized** its rule to make more guesses and bring the loss as close to zero **as possible**.\n",
        "\n",
        "### Resultingly\n",
        "a **model** was created. We went through the process of training the model, and now it will use its defined set of **rules** (that it learned) to take input and **produce an inference**, or, a best answer that fits the input data."
      ],
      "metadata": {
        "id": "4fNCl8tGFZ49"
      }
    },
    {
      "cell_type": "markdown",
      "source": [
        "<br> </br>\n",
        "<br> </br>\n",
        "**References** <br>\n",
        "1: https://github.com/tinyMLx/courseware/blob/master/edX/slides/2-1-1.pdf"
      ],
      "metadata": {
        "id": "QuaEwkR2ITLG"
      }
    },
    {
      "cell_type": "code",
      "source": [
        ""
      ],
      "metadata": {
        "id": "tL_tOYdCV2PS"
      },
      "execution_count": 3,
      "outputs": []
    }
  ]
}